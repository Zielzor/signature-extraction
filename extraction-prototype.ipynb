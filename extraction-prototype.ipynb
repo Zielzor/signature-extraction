{
 "cells": [
  {
   "cell_type": "code",
   "execution_count": 2,
   "metadata": {},
   "outputs": [],
   "source": [
    "import cv2\n",
    "import numpy as np\n",
    "from PIL import Image\n",
    "import matplotlib.pyplot as plt"
   ]
  },
  {
   "cell_type": "markdown",
   "metadata": {},
   "source": [
    "Step 1: Load & Preprocess the Image"
   ]
  },
  {
   "cell_type": "code",
   "execution_count": null,
   "metadata": {},
   "outputs": [],
   "source": [
    "def load_and_preprocess(image_path: str):\n",
    "    # Read the image from the specified path using OpenCV.\n",
    "    image = cv2.imread(image_path)\n",
    "    if image is None:\n",
    "        raise ValueError(\"Image not found. Please check the path.\")\n",
    "        \n",
    "    # Convert the image from BGR (default in OpenCV) to grayscale.\n",
    "    gray_image = cv2.cvtColor(image, cv2.COLOR_BGR2GRAY)\n",
    "    \n",
    "    # Apply Gaussian Blur to smooth the image and reduce noise.\n",
    "    blurred_image = cv2.GaussianBlur(gray_image, (5, 5), 0)\n",
    "    \n",
    "    # Use adaptive thresholding to convert the blurred grayscale image into a binary image.\n",
    "    # THRESH_BINARY_INV inverts the result so the signature (usually dark) becomes white.\n",
    "    binary_image = cv2.adaptiveThreshold(blurred_image, 255,\n",
    "                                         cv2.ADAPTIVE_THRESH_GAUSSIAN_C,\n",
    "                                         cv2.THRESH_BINARY_INV, 11, 2)\n",
    "    \n",
    "    # Remove small noise from the binary image using morphological opening.\n",
    "    # A kernel of size 3x3 is used for this operation.\n",
    "    cleaned_image = cv2.morphologyEx(binary_image, cv2.MORPH_OPEN, np.ones((3, 3), np.uint8))\n",
    "    \n",
    "    # Return the original image (useful for later extraction) and the cleaned binary image.\n",
    "    return image, cleaned_image"
   ]
  },
  {
   "cell_type": "markdown",
   "metadata": {},
   "source": [
    "Step 2: Extract Signature"
   ]
  },
  {
   "cell_type": "code",
   "execution_count": 5,
   "metadata": {},
   "outputs": [],
   "source": [
    "def extract_signature(original_image, binary_image):\n",
    "    # Find all external contours in the binary image.\n",
    "    # Contours represent continuous boundaries around connected components.\n",
    "    contours, _ = cv2.findContours(binary_image, cv2.RETR_EXTERNAL, cv2.CHAIN_APPROX_SIMPLE)\n",
    "    \n",
    "    # Choose the largest contour based on area, assuming it represents the signature.\n",
    "    signature_contour = max(contours, key=cv2.contourArea)\n",
    "    \n",
    "    # Create a mask of the same dimensions as the binary image, filled with zeros (black).\n",
    "    mask = np.zeros_like(binary_image)\n",
    "    # Draw the detected signature contour onto the mask.\n",
    "    # Filling the contour ensures that the entire area of the signature is covered.\n",
    "    cv2.drawContours(mask, [signature_contour], -1, 255, thickness=cv2.FILLED)\n",
    "    \n",
    "    # Use the mask to extract the signature from the original image.\n",
    "    # This performs a bitwise 'AND' operation, keeping only the pixels where the mask is white.\n",
    "    signature_image = cv2.bitwise_and(original_image, original_image, mask=mask)\n",
    "    \n",
    "    # Convert the extracted signature image from BGR to RGB for correct color display in matplotlib.\n",
    "    signature_image = cv2.cvtColor(signature_image, cv2.COLOR_BGR2RGB)\n",
    "    \n",
    "    return signature_image"
   ]
  },
  {
   "cell_type": "markdown",
   "metadata": {},
   "source": [
    "Step 3: Display and Save Results"
   ]
  },
  {
   "cell_type": "code",
   "execution_count": 6,
   "metadata": {},
   "outputs": [],
   "source": [
    "def display_and_save(signature_image, output_path):\n",
    "    # Display the signature image using matplotlib.\n",
    "    plt.figure(figsize=(5, 5))\n",
    "    plt.imshow(signature_image)\n",
    "    plt.axis('off')  # Turn off axis ticks and labels for a cleaner look.\n",
    "    plt.show()\n",
    "    \n",
    "    # Save the signature image to the specified output path using PIL.\n",
    "    Image.fromarray(signature_image).save(output_path)\n",
    "    print(f\"Signature saved successfully at {output_path}\")"
   ]
  },
  {
   "cell_type": "code",
   "execution_count": null,
   "metadata": {},
   "outputs": [],
   "source": []
  },
  {
   "cell_type": "code",
   "execution_count": null,
   "metadata": {},
   "outputs": [],
   "source": []
  },
  {
   "cell_type": "code",
   "execution_count": null,
   "metadata": {},
   "outputs": [],
   "source": []
  }
 ],
 "metadata": {
  "kernelspec": {
   "display_name": ".venv",
   "language": "python",
   "name": "python3"
  },
  "language_info": {
   "codemirror_mode": {
    "name": "ipython",
    "version": 3
   },
   "file_extension": ".py",
   "mimetype": "text/x-python",
   "name": "python",
   "nbconvert_exporter": "python",
   "pygments_lexer": "ipython3",
   "version": "3.9.0"
  }
 },
 "nbformat": 4,
 "nbformat_minor": 2
}
